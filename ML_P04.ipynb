{
 "cells": [
  {
   "cell_type": "code",
   "execution_count": null,
   "id": "588cbb14",
   "metadata": {},
   "outputs": [],
   "source": [
    "#  Gradient Descent Algorithm"
   ]
  },
  {
   "cell_type": "code",
   "execution_count": 1,
   "id": "0b7c82a6",
   "metadata": {},
   "outputs": [],
   "source": [
    "# initialize parameters\n",
    "cur_x = 2                 # x = 2, given\n",
    "rate = 0.01\n",
    "precision = 0.000001\n",
    "previous_step_size = 1\n",
    "max_iters = 1000\n",
    "iters = 0\n"
   ]
  },
  {
   "cell_type": "code",
   "execution_count": 2,
   "id": "f0166d39",
   "metadata": {},
   "outputs": [],
   "source": [
    "# Gradient function y=(x+3)²\n",
    "\n",
    "df = lambda x : 2 * (x + 3)"
   ]
  },
  {
   "cell_type": "code",
   "execution_count": 3,
   "id": "9db16c25",
   "metadata": {},
   "outputs": [
    {
     "name": "stdout",
     "output_type": "stream",
     "text": [
      "Local Minima Occurs at :  -2.999951128099859\n"
     ]
    }
   ],
   "source": [
    "# Create a loop to perform Gradient Descent\n",
    "\n",
    "while previous_step_size > precision and iters < max_iters:\n",
    "    prev_x = cur_x\n",
    "    cur_x -= rate * df(prev_x)\n",
    "    previous_step_size = abs(prev_x - cur_x)\n",
    "    iters += 1\n",
    "    \n",
    "print(\"Local Minima Occurs at : \", cur_x)"
   ]
  },
  {
   "cell_type": "code",
   "execution_count": null,
   "id": "86856a2f",
   "metadata": {},
   "outputs": [],
   "source": []
  },
  {
   "cell_type": "code",
   "execution_count": null,
   "id": "63e5b167",
   "metadata": {},
   "outputs": [],
   "source": []
  },
  {
   "cell_type": "code",
   "execution_count": null,
   "id": "b093760c",
   "metadata": {},
   "outputs": [],
   "source": []
  }
 ],
 "metadata": {
  "kernelspec": {
   "display_name": "Python 3 (ipykernel)",
   "language": "python",
   "name": "python3"
  },
  "language_info": {
   "codemirror_mode": {
    "name": "ipython",
    "version": 3
   },
   "file_extension": ".py",
   "mimetype": "text/x-python",
   "name": "python",
   "nbconvert_exporter": "python",
   "pygments_lexer": "ipython3",
   "version": "3.10.5"
  }
 },
 "nbformat": 4,
 "nbformat_minor": 5
}
